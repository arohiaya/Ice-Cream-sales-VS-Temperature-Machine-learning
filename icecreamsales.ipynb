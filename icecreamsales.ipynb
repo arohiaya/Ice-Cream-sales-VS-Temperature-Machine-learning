# Import libraries
import pandas as pd
import matplotlib.pyplot as plt
from sklearn.model_selection import train_test_split
from sklearn.linear_model import LinearRegression
from sklearn.metrics import mean_absolute_error, r2_score

# 1. Load and clean data
data = pd.read_csv("Ice Cream Sales - temperatures.csv") 
data = data.groupby("Temperature In F", as_index=False)["Ice Cream Sales"].mean()  # Handle duplicates

# 2. Split data (80% train, 20% test)
X = data[["Temperature In F"]]
y = data["Ice Cream Sales"]
X_train, X_test, y_train, y_test = train_test_split(X, y, test_size=0.2, random_state=42)

# 3. Train the model
model = LinearRegression()
model.fit(X_train, y_train)

# 4. Evaluate
y_pred = model.predict(X_test)
mae = mean_absolute_error(y_test, y_pred)
r2 = r2_score(y_test, y_pred)

# 5. Print key insights (Teacher-friendly!)
print("🔍 Key Insights:")
print(f"- For every 1°F increase, profits rise by ${model.coef_[0]:.2f} (slope)")
print(f"- Base profit at 32°F: ${model.intercept_:.2f} (intercept)")
print(f"- Prediction error: ±${mae:.2f} (on average)")
print(f"- Model accuracy: {r2:.0%} (R² score)")

# 6. Professional plot
plt.figure(figsize=(10, 6))
plt.scatter(X_train, y_train, color='#3498db', label='Training Data', alpha=0.7, s=80)
plt.scatter(X_test, y_test, color='#2ecc71', label='Test Data', alpha=0.7, s=80, marker='s')
plt.plot(X, model.predict(X), color='#e74c3c', linewidth=3, label='Regression Line')
plt.xlabel("Temperature (°F)", fontsize=12, fontweight='bold')
plt.ylabel("Ice Cream Sales ($)", fontsize=12, fontweight='bold')
plt.title("How Temperature Affects Ice Cream Sales\n(Linear Regression Model)", fontsize=14, pad=20)
plt.legend(framealpha=1)
plt.grid(axis='y', linestyle='--', alpha=0.4)

# Add regression equation to plot
equation = f"Profit = {model.coef_[0]:.2f}×Temp + {model.intercept_:.2f}\nR² = {r2:.2f}"
plt.text(0.5, 0.1, equation, transform=plt.gca().transAxes, 
         bbox=dict(facecolor='white', edgecolor='gray', boxstyle='round'), fontsize=10)

plt.tight_layout()
plt.savefig("icecream_analysis.png", dpi=300)  # Save for presentation
plt.show()
